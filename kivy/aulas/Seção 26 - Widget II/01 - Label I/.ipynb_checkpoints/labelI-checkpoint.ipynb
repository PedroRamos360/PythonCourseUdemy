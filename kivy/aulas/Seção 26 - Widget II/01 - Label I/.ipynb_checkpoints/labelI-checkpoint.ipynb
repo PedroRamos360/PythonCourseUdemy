{
 "cells": [
  {
   "cell_type": "code",
   "execution_count": null,
   "metadata": {},
   "outputs": [],
   "source": [
    "from kivy.app import App\n",
    "from kivy.uix.button import Button\n",
    "from kivy.uix.label import Label\n",
    "from kivy.interactive import InteractiveLauncher\n",
    "from kivy.lang import Builder\n",
    "from kivy.config import Config\n",
    "\n",
    "# força a aplicação a não começar em tela cheia\n",
    "Config.set(\"graphics\", \"fullscreen\", \"0\")\n",
    "\n",
    "janela = None\n",
    "galyout = None"
   ]
  },
  {
   "cell_type": "code",
   "execution_count": null,
   "metadata": {},
   "outputs": [],
   "source": [
    "class JanelaApp(App):\n",
    "    pass\n",
    "\n",
    "janela = JanelaApp()\n",
    "ji = InteractiveLauncher( janela )\n",
    "ji.run()"
   ]
  },
  {
   "cell_type": "code",
   "execution_count": null,
   "metadata": {},
   "outputs": [],
   "source": [
    "kvcode = \"\"\"\n",
    "StackLayout:\n",
    "    orientation: \"tb-lr\"\n",
    "    padding: 50\n",
    "\"\"\"\n",
    "\n",
    "if (janela.root):\n",
    "    janela.root_window.remove_widget( janela.root )\n",
    "    janela.root = None\n",
    "    glayout = None\n",
    "\n",
    "janela.root = glayout = Builder.load_string( kvcode )\n",
    "janela.root_window.add_widget( glayout )"
   ]
  },
  {
   "cell_type": "code",
   "execution_count": null,
   "metadata": {},
   "outputs": [],
   "source": [
    "def add_lb(**args):\n",
    "    lb = Label(text=\"Estudando a classe Label\",\n",
    "                  size_hint_y = None,\n",
    "                   height = 50,\n",
    "                   **args)\n",
    "    glayout.add_widget(lb)\n",
    "    return(lb)"
   ]
  },
  {
   "cell_type": "code",
   "execution_count": null,
   "metadata": {},
   "outputs": [],
   "source": [
    "add_lb().font_size = 10"
   ]
  },
  {
   "cell_type": "code",
   "execution_count": null,
   "metadata": {},
   "outputs": [],
   "source": [
    "x = add_lb()\n",
    "x.font_name = \"consola\""
   ]
  },
  {
   "cell_type": "code",
   "execution_count": null,
   "metadata": {},
   "outputs": [],
   "source": [
    "add_lb().bold = True"
   ]
  },
  {
   "cell_type": "code",
   "execution_count": null,
   "metadata": {},
   "outputs": [],
   "source": [
    "add_lb().italic = True"
   ]
  },
  {
   "cell_type": "code",
   "execution_count": null,
   "metadata": {},
   "outputs": [],
   "source": [
    "add_lb(font_size=20).color = .1, .2, .3, 1"
   ]
  },
  {
   "cell_type": "code",
   "execution_count": null,
   "metadata": {},
   "outputs": [],
   "source": [
    "add_lb(font_size=30).disabled = True"
   ]
  },
  {
   "cell_type": "code",
   "execution_count": null,
   "metadata": {},
   "outputs": [],
   "source": [
    "txt = \\\n",
    "\"\"\"1 - aaaaaaaaaaaaaa\n",
    "2 - aaaaaaaaaaaaaa\n",
    "3 - aaaaaaaaaaaaaa\n",
    "4 - aaaaaaaaaaaaaa\n",
    "5 - aaaaaaaaaaaaaa\n",
    "6 - aaaaaaaaaaaaaa\"\"\""
   ]
  },
  {
   "cell_type": "code",
   "execution_count": null,
   "metadata": {},
   "outputs": [],
   "source": [
    "lb = add_lb()\n",
    "lb.text = txt\n",
    "lb.line_height= 1"
   ]
  },
  {
   "cell_type": "code",
   "execution_count": null,
   "metadata": {},
   "outputs": [],
   "source": [
    "lb = add_lb()\n",
    "lb.text = txt\n",
    "lb.color = .9, .9, .1, 1\n",
    "lb.max_lines = 3"
   ]
  },
  {
   "cell_type": "code",
   "execution_count": null,
   "metadata": {},
   "outputs": [],
   "source": [
    "txt"
   ]
  },
  {
   "cell_type": "code",
   "execution_count": null,
   "metadata": {},
   "outputs": [],
   "source": []
  }
 ],
 "metadata": {
  "kernelspec": {
   "display_name": "Python 3",
   "language": "python",
   "name": "python3"
  },
  "language_info": {
   "codemirror_mode": {
    "name": "ipython",
    "version": 3
   },
   "file_extension": ".py",
   "mimetype": "text/x-python",
   "name": "python",
   "nbconvert_exporter": "python",
   "pygments_lexer": "ipython3",
   "version": "3.7.6"
  }
 },
 "nbformat": 4,
 "nbformat_minor": 4
}
