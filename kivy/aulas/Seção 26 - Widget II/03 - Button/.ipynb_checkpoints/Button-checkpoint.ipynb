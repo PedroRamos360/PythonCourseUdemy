{
 "cells": [
  {
   "cell_type": "code",
   "execution_count": null,
   "metadata": {},
   "outputs": [],
   "source": [
    "from kivy.app import App\n",
    "from kivy.uix.button import Button\n",
    "from kivy.uix.label import Label\n",
    "from kivy.interactive import InteractiveLauncher\n",
    "from kivy.lang import Builder\n",
    "from kivy.config import Config\n",
    "\n",
    "# força a aplicação a não começar em tela cheia\n",
    "Config.set(\"graphics\", \"fullscreen\", \"0\")\n",
    "\n",
    "janela = None\n",
    "galyout = None"
   ]
  },
  {
   "cell_type": "code",
   "execution_count": null,
   "metadata": {},
   "outputs": [],
   "source": [
    "class JanelaApp(App):\n",
    "    pass\n",
    "\n",
    "janela = JanelaApp()\n",
    "ji = InteractiveLauncher( janela )\n",
    "ji.run()"
   ]
  },
  {
   "cell_type": "code",
   "execution_count": null,
   "metadata": {},
   "outputs": [],
   "source": [
    "kvcode = \"\"\"\n",
    "StackLayout:\n",
    "    orientation: \"tb-lr\"\n",
    "    padding: 50\n",
    "\"\"\"\n",
    "\n",
    "if (janela.root):\n",
    "    janela.root_window.remove_widget( janela.root )\n",
    "    janela.root = None\n",
    "    glayout = None\n",
    "\n",
    "janela.root = glayout = Builder.load_string( kvcode )\n",
    "janela.root_window.add_widget( glayout )"
   ]
  },
  {
   "cell_type": "code",
   "execution_count": null,
   "metadata": {},
   "outputs": [],
   "source": [
    "def add_bt(**args):\n",
    "    bt = Button(text=\"Estudando a classe Button\",\n",
    "                  size_hint_y = None,\n",
    "                   font_size = 20,\n",
    "                   height = 50,\n",
    "                   **args)\n",
    "    glayout.add_widget(bt)\n",
    "    return(bt)"
   ]
  },
  {
   "cell_type": "code",
   "execution_count": null,
   "metadata": {},
   "outputs": [],
   "source": [
    "add_bt().font_size = 30"
   ]
  },
  {
   "cell_type": "code",
   "execution_count": null,
   "metadata": {},
   "outputs": [],
   "source": [
    "add_bt().font_name = \"consola\""
   ]
  },
  {
   "cell_type": "code",
   "execution_count": null,
   "metadata": {},
   "outputs": [],
   "source": [
    "bt = add_bt()\n",
    "bt.font_size = 22\n",
    "bt.italic = True"
   ]
  },
  {
   "cell_type": "code",
   "execution_count": null,
   "metadata": {},
   "outputs": [],
   "source": [
    "bt = add_bt()\n",
    "bt.font_size = 22\n",
    "bt.bold = True"
   ]
  },
  {
   "cell_type": "code",
   "execution_count": null,
   "metadata": {},
   "outputs": [],
   "source": [
    "add_bt().color = .9, .5, .3, 1"
   ]
  },
  {
   "cell_type": "code",
   "execution_count": null,
   "metadata": {},
   "outputs": [],
   "source": [
    "bt = add_bt()\n",
    "bt.markup = True\n",
    "bt.text = \"Esse [b]texto[/b] possui formatação\""
   ]
  },
  {
   "cell_type": "code",
   "execution_count": null,
   "metadata": {},
   "outputs": [],
   "source": [
    "def click(button):\n",
    "    button.text = \"on_press\"\n",
    "    \n",
    "def fim_click(button):\n",
    "    button.text = \"on_release\"\n",
    "    \n",
    "bt = add_bt()\n",
    "bt.bind(on_press=click)\n",
    "bt.bind(on_release=fim_click)"
   ]
  },
  {
   "cell_type": "code",
   "execution_count": null,
   "metadata": {},
   "outputs": [],
   "source": []
  }
 ],
 "metadata": {
  "kernelspec": {
   "display_name": "Python 3",
   "language": "python",
   "name": "python3"
  },
  "language_info": {
   "codemirror_mode": {
    "name": "ipython",
    "version": 3
   },
   "file_extension": ".py",
   "mimetype": "text/x-python",
   "name": "python",
   "nbconvert_exporter": "python",
   "pygments_lexer": "ipython3",
   "version": "3.7.6"
  }
 },
 "nbformat": 4,
 "nbformat_minor": 4
}
